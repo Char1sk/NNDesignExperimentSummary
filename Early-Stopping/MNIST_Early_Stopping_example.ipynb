{
 "cells": [
  {
   "cell_type": "markdown",
   "metadata": {},
   "source": [
    "# Early Stopping Example\n",
    "In this notebook, we will train an Multi-Layer Perceptron (MLP) to classify images from the [MNIST database](http://yann.lecun.com/exdb/mnist/) hand-written digit database, and use early stopping to stop the training when the model starts to overfit to the training data."
   ]
  },
  {
   "cell_type": "markdown",
   "metadata": {},
   "source": [
    "### Import the Early Stopping Class"
   ]
  },
  {
   "cell_type": "code",
   "execution_count": 1,
   "metadata": {},
   "outputs": [],
   "source": [
    "# import libraries\n",
    "import torch\n",
    "import numpy as np\n",
    "import matplotlib.pyplot as plt\n",
    "\n",
    "# import EarlyStopping\n",
    "from pytorchtools import EarlyStopping, CriteriaConfig"
   ]
  },
  {
   "cell_type": "markdown",
   "metadata": {},
   "source": [
    "### Load and Batch the Data"
   ]
  },
  {
   "cell_type": "code",
   "execution_count": 2,
   "metadata": {},
   "outputs": [],
   "source": [
    "from torchvision import datasets\n",
    "import torchvision.transforms as transforms\n",
    "from torch.utils.data.sampler import SubsetRandomSampler\n",
    "\n",
    "def create_datasets(batch_size):\n",
    "\n",
    "    # percentage of training set to use as validation\n",
    "    valid_size = 0.2\n",
    "\n",
    "    # convert data to torch.FloatTensor\n",
    "    transform = transforms.ToTensor()\n",
    "\n",
    "    # choose the training and test datasets\n",
    "    train_data = datasets.MNIST(root='data', \n",
    "                                train=True,\n",
    "                                download=True, \n",
    "                                transform=transform)\n",
    "\n",
    "    test_data = datasets.MNIST(root='data',\n",
    "                               train=False,\n",
    "                               download=True,\n",
    "                               transform=transform)\n",
    "\n",
    "    # obtain training indices that will be used for validation\n",
    "    num_train = len(train_data)\n",
    "    indices = list(range(num_train))\n",
    "    np.random.shuffle(indices)\n",
    "    split = int(np.floor(valid_size * num_train))\n",
    "    train_idx, valid_idx = indices[split:], indices[:split]\n",
    "    \n",
    "    # define samplers for obtaining training and validation batches\n",
    "    train_sampler = SubsetRandomSampler(train_idx)\n",
    "    valid_sampler = SubsetRandomSampler(valid_idx)\n",
    "    \n",
    "    # load training data in batches\n",
    "    train_loader = torch.utils.data.DataLoader(train_data,\n",
    "                                               batch_size=batch_size,\n",
    "                                               sampler=train_sampler,\n",
    "                                               num_workers=0)\n",
    "    \n",
    "    # load validation data in batches\n",
    "    valid_loader = torch.utils.data.DataLoader(train_data,\n",
    "                                               batch_size=batch_size,\n",
    "                                               sampler=valid_sampler,\n",
    "                                               num_workers=0)\n",
    "    \n",
    "    # load test data in batches\n",
    "    test_loader = torch.utils.data.DataLoader(test_data,\n",
    "                                              batch_size=batch_size,\n",
    "                                              num_workers=0)\n",
    "    \n",
    "    return train_loader, test_loader, valid_loader"
   ]
  },
  {
   "cell_type": "markdown",
   "metadata": {},
   "source": [
    "### Define the Network\n",
    "Defining a simple MLP model."
   ]
  },
  {
   "cell_type": "code",
   "execution_count": 3,
   "metadata": {},
   "outputs": [],
   "source": [
    "import torch.nn as nn\n",
    "import torch.nn.functional as F\n",
    "\n",
    "class Net(nn.Module):\n",
    "    def __init__(self):\n",
    "        super(Net, self).__init__()\n",
    "        self.fc1 = nn.Linear(28 * 28, 128)\n",
    "        self.fc2 = nn.Linear(128, 128)\n",
    "        self.fc3 = nn.Linear(128, 10)\n",
    "        self.dropout = nn.Dropout(0.5)\n",
    "    def forward(self, x):\n",
    "        # flatten image input\n",
    "        x = x.view(-1, 28 * 28)\n",
    "        # add hidden layer, with relu activation function\n",
    "        x = F.relu(self.fc1(x))\n",
    "        x = self.dropout(x)\n",
    "        # add hidden layer, with relu activation function\n",
    "        x = F.relu(self.fc2(x))\n",
    "        x = self.dropout(x)\n",
    "        # add output layer\n",
    "        x = self.fc3(x)\n",
    "        return x"
   ]
  },
  {
   "cell_type": "markdown",
   "metadata": {},
   "source": [
    "### Train the Model using Early Stopping"
   ]
  },
  {
   "cell_type": "code",
   "execution_count": 4,
   "metadata": {},
   "outputs": [],
   "source": [
    "def train_model(model, batch_size, config, n_epochs):\n",
    "    \n",
    "    # to track the training loss as the model trains\n",
    "    train_losses = []\n",
    "    # to track the validation loss as the model trains\n",
    "    valid_losses = []\n",
    "    # to track the average training loss per epoch as the model trains\n",
    "    avg_train_losses = []\n",
    "    # to track the average validation loss per epoch as the model trains\n",
    "    avg_valid_losses = [] \n",
    "    \n",
    "    # initialize the early_stopping object\n",
    "    early_stopping = EarlyStopping(config, verbose=True)\n",
    "    \n",
    "    # 评价指标\n",
    "    val_loss_min = 0x0fffffff\n",
    "    val_loss_min_epoch = 0\n",
    "    stop_epoch = 0\n",
    "\n",
    "    for epoch in range(1, n_epochs + 1):\n",
    "\n",
    "        ###################\n",
    "        # train the model #\n",
    "        ###################\n",
    "        model.train() # prep model for training\n",
    "        for batch, (data, target) in enumerate(train_loader, 1):\n",
    "            # clear the gradients of all optimized variables\n",
    "            optimizer.zero_grad()\n",
    "            # forward pass: compute predicted outputs by passing inputs to the model\n",
    "            output = model(data)\n",
    "            # calculate the loss\n",
    "            loss = criterion(output, target)\n",
    "            # backward pass: compute gradient of the loss with respect to model parameters\n",
    "            loss.backward()\n",
    "            # perform a single optimization step (parameter update)\n",
    "            optimizer.step()\n",
    "            # record training loss\n",
    "            train_losses.append(loss.item())\n",
    "\n",
    "        ######################    \n",
    "        # validate the model #\n",
    "        ######################\n",
    "        model.eval() # prep model for evaluation\n",
    "        for data, target in valid_loader:\n",
    "            # forward pass: compute predicted outputs by passing inputs to the model\n",
    "            output = model(data)\n",
    "            # calculate the loss\n",
    "            loss = criterion(output, target)\n",
    "            # record validation loss\n",
    "            valid_losses.append(loss.item())\n",
    "\n",
    "        # print training/validation statistics \n",
    "        # calculate average loss over an epoch\n",
    "        train_loss = np.average(train_losses)\n",
    "        valid_loss = np.average(valid_losses)\n",
    "        avg_train_losses.append(train_loss)\n",
    "        avg_valid_losses.append(valid_loss)\n",
    "        \n",
    "        epoch_len = len(str(n_epochs))\n",
    "        \n",
    "        print_msg = (f'[{epoch:>{epoch_len}}/{n_epochs:>{epoch_len}}] ' +\n",
    "                     f'train_loss: {train_loss:.5f} ' +\n",
    "                     f'valid_loss: {valid_loss:.5f}')\n",
    "        \n",
    "        print(print_msg)\n",
    "        \n",
    "        # clear lists to track next epoch\n",
    "        train_losses = []\n",
    "        valid_losses = []\n",
    "        \n",
    "        # early_stopping needs the validation loss to check if it has decresed, \n",
    "        # and if it has, it will make a checkpoint of the current model\n",
    "        early_stopping(valid_loss, model)\n",
    "        \n",
    "        if early_stopping.early_stop:\n",
    "            print(\"Early stopping\")\n",
    "            break\n",
    "        \n",
    "        if valid_loss < val_loss_min:\n",
    "            val_loss_min = valid_loss\n",
    "            val_loss_min_epoch = epoch\n",
    "        stop_epoch = epoch\n",
    "\n",
    "\n",
    "    # load the last checkpoint with the best model\n",
    "    model.load_state_dict(torch.load('checkpoint.pt'))\n",
    "\n",
    "    return model, avg_train_losses, avg_valid_losses, stop_epoch, val_loss_min_epoch"
   ]
  },
  {
   "cell_type": "markdown",
   "metadata": {},
   "source": [
    "### Specify Loss Function and Optimizer and Train"
   ]
  },
  {
   "cell_type": "code",
   "execution_count": 18,
   "metadata": {},
   "outputs": [
    {
     "name": "stdout",
     "output_type": "stream",
     "text": [
      "Net(\n",
      "  (fc1): Linear(in_features=784, out_features=128, bias=True)\n",
      "  (fc2): Linear(in_features=128, out_features=128, bias=True)\n",
      "  (fc3): Linear(in_features=128, out_features=10, bias=True)\n",
      "  (dropout): Dropout(p=0.5, inplace=False)\n",
      ")\n",
      "[  1/100] train_loss: 0.83444 valid_loss: 0.29915\n",
      "Validation loss decreased (inf --> 0.299151).  Saving model ...\n",
      "[  2/100] train_loss: 0.36756 valid_loss: 0.21264\n",
      "Validation loss decreased (0.299151 --> 0.212644).  Saving model ...\n",
      "[  3/100] train_loss: 0.29564 valid_loss: 0.17846\n",
      "Validation loss decreased (0.212644 --> 0.178461).  Saving model ...\n",
      "[  4/100] train_loss: 0.25567 valid_loss: 0.15863\n",
      "Validation loss decreased (0.178461 --> 0.158629).  Saving model ...\n",
      "[  5/100] train_loss: 0.23099 valid_loss: 0.14100\n",
      "Validation loss decreased (0.158629 --> 0.141003).  Saving model ...\n",
      "[  6/100] train_loss: 0.21266 valid_loss: 0.13116\n",
      "Validation loss decreased (0.141003 --> 0.131160).  Saving model ...\n",
      "[  7/100] train_loss: 0.19325 valid_loss: 0.12764\n",
      "Validation loss decreased (0.131160 --> 0.127639).  Saving model ...\n",
      "[  8/100] train_loss: 0.18155 valid_loss: 0.11709\n",
      "Validation loss decreased (0.127639 --> 0.117092).  Saving model ...\n",
      "[  9/100] train_loss: 0.17735 valid_loss: 0.11287\n",
      "Validation loss decreased (0.117092 --> 0.112873).  Saving model ...\n",
      "[ 10/100] train_loss: 0.16885 valid_loss: 0.10771\n",
      "Validation loss decreased (0.112873 --> 0.107709).  Saving model ...\n",
      "[ 11/100] train_loss: 0.16144 valid_loss: 0.10551\n",
      "Validation loss decreased (0.107709 --> 0.105509).  Saving model ...\n",
      "[ 12/100] train_loss: 0.15468 valid_loss: 0.10485\n",
      "Validation loss decreased (0.105509 --> 0.104846).  Saving model ...\n",
      "[ 13/100] train_loss: 0.14920 valid_loss: 0.10104\n",
      "Validation loss decreased (0.104846 --> 0.101037).  Saving model ...\n",
      "[ 14/100] train_loss: 0.14429 valid_loss: 0.09851\n",
      "Validation loss decreased (0.101037 --> 0.098506).  Saving model ...\n",
      "[ 15/100] train_loss: 0.13458 valid_loss: 0.09669\n",
      "Validation loss decreased (0.098506 --> 0.096690).  Saving model ...\n",
      "[ 16/100] train_loss: 0.13452 valid_loss: 0.09627\n",
      "Validation loss decreased (0.096690 --> 0.096271).  Saving model ...\n",
      "[ 17/100] train_loss: 0.13427 valid_loss: 0.09543\n",
      "Validation loss decreased (0.096271 --> 0.095433).  Saving model ...\n",
      "[ 18/100] train_loss: 0.12713 valid_loss: 0.09187\n",
      "Validation loss decreased (0.095433 --> 0.091871).  Saving model ...\n",
      "[ 19/100] train_loss: 0.12378 valid_loss: 0.09179\n",
      "Validation loss decreased (0.091871 --> 0.091794).  Saving model ...\n",
      "[ 20/100] train_loss: 0.12477 valid_loss: 0.09267\n",
      ">> Validation loss Increased; EarlyStopping criteria 2: PQ_loss=0.048394199590889836; val_loss_min=0.09179363803977662\n",
      "[ 21/100] train_loss: 0.11975 valid_loss: 0.09041\n",
      "Validation loss decreased (0.091794 --> 0.090406).  Saving model ...\n",
      "[ 22/100] train_loss: 0.11842 valid_loss: 0.09141\n",
      ">> Validation loss Increased; EarlyStopping criteria 2: PQ_loss=0.08168239870330708; val_loss_min=0.09040612465840706\n",
      "[ 23/100] train_loss: 0.11782 valid_loss: 0.08946\n",
      "Validation loss decreased (0.090406 --> 0.089461).  Saving model ...\n",
      "[ 24/100] train_loss: 0.11159 valid_loss: 0.08826\n",
      "Validation loss decreased (0.089461 --> 0.088263).  Saving model ...\n",
      "[ 25/100] train_loss: 0.11046 valid_loss: 0.09240\n",
      ">> Validation loss Increased; EarlyStopping criteria 2: PQ_loss=0.19472125091102982; val_loss_min=0.08826349905513703\n",
      "Early stopping\n",
      "--------------------------------------------\n",
      ">>>> stop_epoch =  24\n",
      ">>>> val_loss_min_epoch =  24  redundancy =  0.0\n"
     ]
    }
   ],
   "source": [
    "# initialize the NN\n",
    "model = Net()\n",
    "print(model)\n",
    "\n",
    "# specify loss function\n",
    "criterion = nn.CrossEntropyLoss()\n",
    "# specify optimizer\n",
    "optimizer = torch.optim.Adam(model.parameters())\n",
    "\n",
    "batch_size = 256\n",
    "n_epochs = 100\n",
    "\n",
    "train_loader, test_loader, valid_loader = create_datasets(batch_size)\n",
    "\n",
    "# config = CriteriaConfig(\n",
    "#     criteria = 1,\n",
    "#     GL_alpha = 9,\n",
    "# )\n",
    "config = CriteriaConfig(\n",
    "    criteria = 2,\n",
    "    PQ_k = 5,\n",
    "    PQ_alpha = 0.1\n",
    ")\n",
    "# config = CriteriaConfig(\n",
    "#     criteria = 3,\n",
    "#     UP_s = 15\n",
    "# )\n",
    "\n",
    "\n",
    "model, train_loss, valid_loss, stop_epoch, val_loss_min_epoch = train_model(model, batch_size, config, n_epochs)\n",
    "\n",
    "\n",
    "print(\"--------------------------------------------\")\n",
    "# 评价方法\n",
    "\n",
    "# 1 training time x\n",
    "print(\">>>> stop_epoch = \", stop_epoch)\n",
    "# 2 redundancy\n",
    "redundancy = stop_epoch / val_loss_min_epoch - 1\n",
    "print(\">>>> val_loss_min_epoch = \", val_loss_min_epoch, \" redundancy = \", redundancy)\n",
    "# 3 effectiveness x\n"
   ]
  },
  {
   "cell_type": "markdown",
   "metadata": {},
   "source": [
    "### Visualizing the Loss and the Early Stopping Checkpoint\n",
    "From the plot we can see that the last Early Stopping Checkpoint was saved right before the model started to overfit."
   ]
  },
  {
   "cell_type": "code",
   "execution_count": 19,
   "metadata": {},
   "outputs": [
    {
     "data": {
      "image/png": "[encoded data removed]",
      "text/plain": [
       "<Figure size 720x576 with 1 Axes>"
      ]
     },
     "metadata": {
      "needs_background": "light"
     },
     "output_type": "display_data"
    }
   ],
   "source": [
    "# visualize the loss as the network trained\n",
    "fig = plt.figure(figsize=(10,8))\n",
    "plt.plot(range(1,len(train_loss)+1),train_loss, label='Training Loss')\n",
    "plt.plot(range(1,len(valid_loss)+1),valid_loss,label='Validation Loss')\n",
    "\n",
    "# find position of lowest validation loss\n",
    "minposs = valid_loss.index(min(valid_loss))+1 \n",
    "plt.axvline(minposs, linestyle='--', color='r',label='Early Stopping Checkpoint')\n",
    "\n",
    "plt.xlabel('epochs')\n",
    "plt.ylabel('loss')\n",
    "plt.ylim(0, 0.5) # consistent scale\n",
    "plt.xlim(0, len(train_loss)+1) # consistent scale\n",
    "plt.grid(True)\n",
    "plt.legend()\n",
    "plt.tight_layout()\n",
    "plt.show()\n",
    "fig.savefig('loss_plot.png', bbox_inches='tight')"
   ]
  },
  {
   "cell_type": "markdown",
   "metadata": {},
   "source": [
    "### Test the Trained Network"
   ]
  },
  {
   "cell_type": "code",
   "execution_count": 20,
   "metadata": {},
   "outputs": [
    {
     "name": "stdout",
     "output_type": "stream",
     "text": [
      "Test Loss: 0.085671\n",
      "\n",
      "Test Accuracy of     0: 99% (970/979)\n",
      "Test Accuracy of     1: 99% (1122/1133)\n",
      "Test Accuracy of     2: 97% (1004/1030)\n",
      "Test Accuracy of     3: 97% (987/1008)\n",
      "Test Accuracy of     4: 97% (954/980)\n",
      "Test Accuracy of     5: 96% (858/890)\n",
      "Test Accuracy of     6: 97% (930/956)\n",
      "Test Accuracy of     7: 97% (1002/1027)\n",
      "Test Accuracy of     8: 96% (941/973)\n",
      "Test Accuracy of     9: 95% (967/1008)\n",
      "\n",
      "Test Accuracy (Overall): 97% (9735/9984)\n"
     ]
    }
   ],
   "source": [
    "# initialize lists to monitor test loss and accuracy\n",
    "test_loss = 0.0\n",
    "class_correct = list(0. for i in range(10))\n",
    "class_total = list(0. for i in range(10))\n",
    "\n",
    "model.eval() # prep model for evaluation\n",
    "\n",
    "for data, target in test_loader:\n",
    "    if len(target.data) != batch_size:\n",
    "        break\n",
    "    # forward pass: compute predicted outputs by passing inputs to the model\n",
    "    output = model(data)\n",
    "    # calculate the loss\n",
    "    loss = criterion(output, target)\n",
    "    # update test loss \n",
    "    test_loss += loss.item()*data.size(0)\n",
    "    # convert output probabilities to predicted class\n",
    "    _, pred = torch.max(output, 1)\n",
    "    # compare predictions to true label\n",
    "    correct = np.squeeze(pred.eq(target.data.view_as(pred)))\n",
    "    # calculate test accuracy for each object class\n",
    "    for i in range(batch_size):\n",
    "        label = target.data[i]\n",
    "        class_correct[label] += correct[i].item()\n",
    "        class_total[label] += 1\n",
    "\n",
    "# calculate and print avg test loss\n",
    "test_loss = test_loss/len(test_loader.dataset)\n",
    "print('Test Loss: {:.6f}\\n'.format(test_loss))\n",
    "\n",
    "for i in range(10):\n",
    "    if class_total[i] > 0:\n",
    "        print('Test Accuracy of %5s: %2d%% (%2d/%2d)' % (\n",
    "            str(i), 100 * class_correct[i] / class_total[i],\n",
    "            np.sum(class_correct[i]), np.sum(class_total[i])))\n",
    "    else:\n",
    "        print('Test Accuracy of %5s: N/A (no training examples)' % (classes[i]))\n",
    "\n",
    "print('\\nTest Accuracy (Overall): %2d%% (%2d/%2d)' % (\n",
    "    100. * np.sum(class_correct) / np.sum(class_total),\n",
    "    np.sum(class_correct), np.sum(class_total)))"
   ]
  },
  {
   "cell_type": "markdown",
   "metadata": {},
   "source": [
    "### Visualize Sample Test Results"
   ]
  },
  {
   "cell_type": "code",
   "execution_count": null,
   "metadata": {},
   "outputs": [],
   "source": [
    "# obtain one batch of test images\n",
    "dataiter = iter(test_loader)\n",
    "images, labels = dataiter.next()\n",
    "\n",
    "# get sample outputs\n",
    "output = model(images)\n",
    "# convert output probabilities to predicted class\n",
    "_, preds = torch.max(output, 1)\n",
    "# prep images for display\n",
    "images = images.numpy()\n",
    "\n",
    "# plot the images in the batch, along with predicted and true labels\n",
    "fig = plt.figure(figsize=(25, 4))\n",
    "for idx in np.arange(20):\n",
    "    ax = fig.add_subplot(2, 20//2, idx+1, xticks=[], yticks=[])\n",
    "    ax.imshow(np.squeeze(images[idx]), cmap='gray')\n",
    "    ax.set_title(\"{} ({})\".format(str(preds[idx].item()), str(labels[idx].item())),\n",
    "                 color=(\"green\" if preds[idx]==labels[idx] else \"red\"))"
   ]
  },
  {
   "cell_type": "markdown",
   "metadata": {},
   "source": [
    "## References"
   ]
  },
  {
   "cell_type": "markdown",
   "metadata": {},
   "source": [
    "The MNIST training example code is mainly taken from the [mnist_mlp_solution_with_validation.ipynb](https://github.com/udacity/deep-learning-v2-pytorch/blob/master/convolutional-neural-networks/mnist-mlp/mnist_mlp_solution_with_validation.ipynb) notebook from the [deep-learning-v2-pytorch repository](https://github.com/udacity/deep-learning-v2-pytorch) made by [Udacity](https://www.udacity.com/), and has been fitted with my early stopping code. "
   ]
  }
 ],
 "metadata": {
  "kernelspec": {
   "display_name": "Python 3",
   "language": "python",
   "name": "python3"
  },
  "language_info": {
   "codemirror_mode": {
    "name": "ipython",
    "version": 3
   },
   "file_extension": ".py",
   "mimetype": "text/x-python",
   "name": "python",
   "nbconvert_exporter": "python",
   "pygments_lexer": "ipython3",
   "version": "3.9.12"
  }
 },
 "nbformat": 4,
 "nbformat_minor": 2
}
